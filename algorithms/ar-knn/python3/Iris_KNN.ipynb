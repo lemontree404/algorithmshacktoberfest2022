{
 "cells": [
  {
   "cell_type": "markdown",
   "id": "bb63d2bb",
   "metadata": {},
   "source": [
    "# Solving Iris dataset using K Nearest Neighbour"
   ]
  },
  {
   "cell_type": "markdown",
   "id": "555b8636",
   "metadata": {},
   "source": [
    "### Importing Libraries"
   ]
  },
  {
   "cell_type": "code",
   "execution_count": 20,
   "id": "42ec119e",
   "metadata": {},
   "outputs": [],
   "source": [
    "import csv,matplotlib.pyplot as plt, numpy as np\n",
    "from sklearn.metrics import r2_score"
   ]
  },
  {
   "cell_type": "markdown",
   "id": "d96cd9d5",
   "metadata": {},
   "source": [
    "### Creating class parameters: \n",
    "- Class 1: Iris Setosa\n",
    "- Class 2: Iris-versicolor\n",
    "- Class 3 : Iris-virginica"
   ]
  },
  {
   "cell_type": "code",
   "execution_count": 21,
   "id": "0df084bf",
   "metadata": {},
   "outputs": [],
   "source": [
    "x1=[]\n",
    "y1=[]\n",
    "\n",
    "x2=[]\n",
    "y2=[]\n",
    "\n",
    "x3=[]\n",
    "y3=[]\n",
    "\n",
    "dataset = []"
   ]
  },
  {
   "cell_type": "markdown",
   "id": "2634353b",
   "metadata": {},
   "source": [
    "### Importing CSV file and populating parameters\n",
    "Column index 3 refers to \"PetalLengthCm\" and column index 4 refers to \"PetalWidthCm\""
   ]
  },
  {
   "cell_type": "code",
   "execution_count": 22,
   "id": "77afad52",
   "metadata": {},
   "outputs": [],
   "source": [
    "with open('Iris.csv') as file:\n",
    "    a = csv.reader(file)\n",
    "    for i in a:\n",
    "        if i[0] != '':\n",
    "            dataset += [i] ## Accumulating Dataset\n",
    "        \n",
    "       \n",
    "for i in dataset:\n",
    "    \n",
    "       ## Populating Class Arrays ##\n",
    " \n",
    "        if i[5] == 'Iris-setosa':\n",
    "            x1 += [float(i[4])] ## PetalLengthCm\n",
    "            y1 += [float(i[3])] ## PetalWidthCm\n",
    "        elif i[5] == 'Iris-versicolor':\n",
    "            x2 += [float(i[4])]\n",
    "            y2 += [float(i[3])]\n",
    "        elif i[5] == 'Iris-virginica':\n",
    "            x3 += [float(i[4])]\n",
    "            y3 += [float(i[3])]\n",
    "                \n",
    "x1=np.array(x1)\n",
    "x2=np.array(x2)\n",
    "x3=np.array(x3)\n",
    "y1=np.array(y1)\n",
    "y2=np.array(y2)\n",
    "y3=np.array(y3)"
   ]
  },
  {
   "cell_type": "markdown",
   "id": "a80d2081",
   "metadata": {},
   "source": [
    "### Plotting Training Data"
   ]
  },
  {
   "cell_type": "code",
   "execution_count": 23,
   "id": "5808fd9e",
   "metadata": {},
   "outputs": [
    {
     "data": {
      "image/png": "[encoded data removed]",
      "text/plain": [
       "<Figure size 432x288 with 1 Axes>"
      ]
     },
     "metadata": {
      "needs_background": "light"
     },
     "output_type": "display_data"
    }
   ],
   "source": [
    "plt.scatter(x1,y1,color='green',marker = '+')\n",
    "plt.scatter(x2,y2,color='black', marker = '*')\n",
    "plt.scatter(x3,y3,color='orange')\n",
    "plt.tight_layout()"
   ]
  },
  {
   "cell_type": "markdown",
   "id": "a9d04631",
   "metadata": {},
   "source": [
    "## Training"
   ]
  },
  {
   "cell_type": "markdown",
   "id": "ada93373",
   "metadata": {},
   "source": [
    "Concatenating all 3 classes to obtain entire training dataset"
   ]
  },
  {
   "cell_type": "code",
   "execution_count": 24,
   "id": "0756e3fc",
   "metadata": {},
   "outputs": [],
   "source": [
    "x = np.concatenate((x1,x2,x3))\n",
    "y = np.concatenate((y1,y2,y3))"
   ]
  },
  {
   "cell_type": "markdown",
   "id": "393a7467",
   "metadata": {},
   "source": [
    "## Testing\n",
    "### Creating testing parameters"
   ]
  },
  {
   "cell_type": "code",
   "execution_count": 25,
   "id": "9bdcb4ea",
   "metadata": {},
   "outputs": [],
   "source": [
    "test_predicted=[]\n",
    "test_check=[]\n",
    "test_x =[]\n",
    "test_y = []\n",
    "\n",
    "for i in dataset:\n",
    "    if i[0]!=\"\":\n",
    "        test_x += [float(i[4])]\n",
    "        test_y += [float(i[3])]\n",
    "        if i[5]=='Iris-setosa':\n",
    "            test_check+=[1]\n",
    "        elif i[5] == 'Iris-versicolor':\n",
    "            test_check+=[2]\n",
    "        elif i[5] == 'Iris-virginica':\n",
    "            test_check+=[3]\n",
    "\n",
    "test_check = test_check[30:50] + test_check[80:100] + test_check[130:150]\n",
    "test_x = test_x[30:50] + test_x[80:100] + test_x[130:150]\n",
    "test_y = test_y[30:50] + test_y[80:100] + test_y[130:150]"
   ]
  },
  {
   "cell_type": "markdown",
   "id": "33f162f2",
   "metadata": {},
   "source": [
    "### Accumulating predicted results from KNN Classification"
   ]
  },
  {
   "cell_type": "code",
   "execution_count": 26,
   "id": "b79db27e",
   "metadata": {},
   "outputs": [],
   "source": [
    "for i in range(len(test_x)):\n",
    "    \n",
    "    dist=[]\n",
    "\n",
    "    dist = np.sqrt(np.square(test_x[i]-x)+np.square(test_y[i]-y))\n",
    "\n",
    "    xi=[]\n",
    "    yi=[]\n",
    "\n",
    "    sorted_dist = np.sort(dist,axis=None)\n",
    "\n",
    "    # k = int(input('Enter K: '))\n",
    "    k = 3\n",
    "    count=0\n",
    "\n",
    "    while count<=k:\n",
    "        index = np.where(dist==sorted_dist[count])\n",
    "        if len(index[0])!=1:\n",
    "            for i in index:\n",
    "                for j in i:\n",
    "                    xi  += [x[j]]\n",
    "                    yi  += [y[j]]\n",
    "                    count+=1\n",
    "        else:\n",
    "            xi  += [x[index]]\n",
    "            yi  += [y[index]]\n",
    "            count+=1\n",
    "    \n",
    "    c1,c2,c3=0,0,0\n",
    "\n",
    "    for i in range(k):\n",
    "        if xi[i] in x1 and yi[i] in y1:\n",
    "            c1+=1\n",
    "        elif xi[i] in x2 and yi[i] in y2:\n",
    "            c2+=1\n",
    "        elif xi[i] in x3 and yi[i] in y3:\n",
    "            c3+=1\n",
    "            \n",
    "    c = max(c1,c2,c3)\n",
    "\n",
    "    if c==c1: test_predicted+=[1]\n",
    "    elif c==c2: test_predicted+=[2]\n",
    "    elif c==c3: test_predicted+=[3]"
   ]
  },
  {
   "cell_type": "markdown",
   "id": "498f441c",
   "metadata": {},
   "source": [
    "## Checking Accuracy and R_2 Score"
   ]
  },
  {
   "cell_type": "code",
   "execution_count": 27,
   "id": "014ee174",
   "metadata": {},
   "outputs": [
    {
     "name": "stdout",
     "output_type": "stream",
     "text": [
      "R2 Score: 0.95 \n",
      "Accuracy: 96.66666666666667\n"
     ]
    }
   ],
   "source": [
    "accuracy = 0\n",
    "for i in range(60):\n",
    "    if test_predicted[i]==test_check[i]:\n",
    "        accuracy+=1\n",
    "    \n",
    "accuracy = (accuracy/len(test_x))*100\n",
    "\n",
    "print('R2 Score:',r2_score(test_check,test_predicted),'\\nAccuracy:',accuracy)"
   ]
  }
 ],
 "metadata": {
  "kernelspec": {
   "display_name": "Python 3 (ipykernel)",
   "language": "python",
   "name": "python3"
  },
  "language_info": {
   "codemirror_mode": {
    "name": "ipython",
    "version": 3
   },
   "file_extension": ".py",
   "mimetype": "text/x-python",
   "name": "python",
   "nbconvert_exporter": "python",
   "pygments_lexer": "ipython3",
   "version": "3.9.7"
  }
 },
 "nbformat": 4,
 "nbformat_minor": 5
}
